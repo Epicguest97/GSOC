{
 "cells": [
  {
   "cell_type": "code",
   "execution_count": 9,
   "id": "269cbb89-f0e2-4661-bb39-7ab29993f5b4",
   "metadata": {},
   "outputs": [
    {
     "ename": "SyntaxError",
     "evalue": "invalid syntax (craft.py, line 1)",
     "output_type": "error",
     "traceback": [
      "Traceback \u001b[0;36m(most recent call last)\u001b[0m:\n",
      "\u001b[0m  File \u001b[1;32m/opt/anaconda3/lib/python3.11/site-packages/IPython/core/interactiveshell.py:3577\u001b[0m in \u001b[1;35mrun_code\u001b[0m\n    exec(code_obj, self.user_global_ns, self.user_ns)\u001b[0m\n",
      "\u001b[0;36m  Cell \u001b[0;32mIn[9], line 8\u001b[0;36m\n\u001b[0;31m    from craft_pytorch.craft import Craft\u001b[0;36m\n",
      "\u001b[0;36m  File \u001b[0;32m~/Downloads/humanAI/craft_pytorch/craft.py:1\u001b[0;36m\u001b[0m\n\u001b[0;31m    x\"\"\"\u001b[0m\n\u001b[0m     ^\u001b[0m\n\u001b[0;31mSyntaxError\u001b[0m\u001b[0;31m:\u001b[0m invalid syntax\n"
     ]
    }
   ],
   "source": [
    "import torch\n",
    "import os\n",
    "import cv2\n",
    "import numpy as np\n",
    "from PIL import Image\n",
    "from torchvision import transforms\n",
    "from transformers import TrOCRProcessor, VisionEncoderDecoderModel\n",
    "from craft_pytorch.craft import Craft\n",
    "\n",
    "\n",
    "\n",
    "# Load CRAFT for text detection\n",
    "craft = Craft(output_dir='output', crop_type=\"poly\", cuda=True)  # Set cuda=False if no GPU\n",
    "\n",
    "# Load TrOCR model\n",
    "processor = TrOCRProcessor.from_pretrained(\"microsoft/trocr-base-handwritten\")\n",
    "model = VisionEncoderDecoderModel.from_pretrained(\"microsoft/trocr-base-handwritten\")\n",
    "\n",
    "# Image transformation\n",
    "transform = transforms.Compose([\n",
    "    transforms.Resize((384, 384)),\n",
    "    transforms.ToTensor(),\n",
    "])\n",
    "\n",
    "# Path to images\n",
    "image_folder = \"file1_images\"\n",
    "image_paths = [os.path.join(image_folder, f) for f in os.listdir(image_folder) if f.endswith((\".jpg\", \".png\"))]\n",
    "\n",
    "for image_path in image_paths:\n",
    "    # Load image\n",
    "    image = Image.open(image_path).convert(\"RGB\")\n",
    "    image_np = np.array(image)\n",
    "\n",
    "    # Detect text regions\n",
    "    prediction = craft.detect_text(image_path)\n",
    "    \n",
    "    # Loop through detected boxes\n",
    "    for box in prediction[\"boxes\"]:\n",
    "        x_min, y_min, x_max, y_max = map(int, box)\n",
    "        text_crop = image_np[y_min:y_max, x_min:x_max]  # Crop detected text region\n",
    "        text_image = Image.fromarray(text_crop)\n",
    "\n",
    "        # Preprocess and pass to TrOCR\n",
    "        pixel_values = transform(text_image).unsqueeze(0)  # Add batch dimension\n",
    "        generated_ids = model.generate(pixel_values)\n",
    "        generated_text = processor.batch_decode(generated_ids, skip_special_tokens=True)[0]\n",
    "\n",
    "        print(f\"Detected Text: {generated_text}\")\n",
    "\n",
    "# Cleanup CRAFT\n",
    "craft.unload_craftnet_model()\n",
    "craft.unload_refinenet_model()\n"
   ]
  },
  {
   "cell_type": "code",
   "execution_count": null,
   "id": "0f658d61-c9ca-49de-a19f-6229ad44e095",
   "metadata": {},
   "outputs": [],
   "source": []
  }
 ],
 "metadata": {
  "kernelspec": {
   "display_name": "Python [conda env:base] *",
   "language": "python",
   "name": "conda-base-py"
  },
  "language_info": {
   "codemirror_mode": {
    "name": "ipython",
    "version": 3
   },
   "file_extension": ".py",
   "mimetype": "text/x-python",
   "name": "python",
   "nbconvert_exporter": "python",
   "pygments_lexer": "ipython3",
   "version": "3.11.8"
  }
 },
 "nbformat": 4,
 "nbformat_minor": 5
}
