{
 "cells": [
  {
   "cell_type": "code",
   "execution_count": 2,
   "id": "91005c6c-67e4-4c3d-b6b0-acad2215205b",
   "metadata": {},
   "outputs": [
    {
     "name": "stderr",
     "output_type": "stream",
     "text": [
      "Using a slow image processor as `use_fast` is unset and a slow processor was saved with this model. `use_fast=True` will be the default behavior in v4.48, even if the model was saved with a slow processor. This will result in minor differences in outputs. You'll still be able to use a slow processor with `use_fast=False`.\n",
      "Config of the encoder: <class 'transformers.models.vit.modeling_vit.ViTModel'> is overwritten by shared encoder config: ViTConfig {\n",
      "  \"attention_probs_dropout_prob\": 0.0,\n",
      "  \"encoder_stride\": 16,\n",
      "  \"hidden_act\": \"gelu\",\n",
      "  \"hidden_dropout_prob\": 0.0,\n",
      "  \"hidden_size\": 768,\n",
      "  \"image_size\": 384,\n",
      "  \"initializer_range\": 0.02,\n",
      "  \"intermediate_size\": 3072,\n",
      "  \"layer_norm_eps\": 1e-12,\n",
      "  \"model_type\": \"vit\",\n",
      "  \"num_attention_heads\": 12,\n",
      "  \"num_channels\": 3,\n",
      "  \"num_hidden_layers\": 12,\n",
      "  \"patch_size\": 16,\n",
      "  \"qkv_bias\": false,\n",
      "  \"torch_dtype\": \"float32\",\n",
      "  \"transformers_version\": \"4.49.0\"\n",
      "}\n",
      "\n",
      "Config of the decoder: <class 'transformers.models.trocr.modeling_trocr.TrOCRForCausalLM'> is overwritten by shared decoder config: TrOCRConfig {\n",
      "  \"activation_dropout\": 0.0,\n",
      "  \"activation_function\": \"gelu\",\n",
      "  \"add_cross_attention\": true,\n",
      "  \"attention_dropout\": 0.0,\n",
      "  \"bos_token_id\": 0,\n",
      "  \"classifier_dropout\": 0.0,\n",
      "  \"cross_attention_hidden_size\": 768,\n",
      "  \"d_model\": 1024,\n",
      "  \"decoder_attention_heads\": 16,\n",
      "  \"decoder_ffn_dim\": 4096,\n",
      "  \"decoder_layerdrop\": 0.0,\n",
      "  \"decoder_layers\": 12,\n",
      "  \"decoder_start_token_id\": 2,\n",
      "  \"dropout\": 0.1,\n",
      "  \"eos_token_id\": 2,\n",
      "  \"init_std\": 0.02,\n",
      "  \"is_decoder\": true,\n",
      "  \"layernorm_embedding\": true,\n",
      "  \"max_position_embeddings\": 512,\n",
      "  \"model_type\": \"trocr\",\n",
      "  \"pad_token_id\": 1,\n",
      "  \"scale_embedding\": false,\n",
      "  \"torch_dtype\": \"float32\",\n",
      "  \"transformers_version\": \"4.49.0\",\n",
      "  \"use_cache\": false,\n",
      "  \"use_learned_position_embeddings\": true,\n",
      "  \"vocab_size\": 50265\n",
      "}\n",
      "\n",
      "Some weights of VisionEncoderDecoderModel were not initialized from the model checkpoint at microsoft/trocr-base-handwritten and are newly initialized: ['encoder.pooler.dense.bias', 'encoder.pooler.dense.weight']\n",
      "You should probably TRAIN this model on a down-stream task to be able to use it for predictions and inference.\n"
     ]
    }
   ],
   "source": [
    "from transformers import TrOCRProcessor, VisionEncoderDecoderModel\n",
    "from PIL import Image\n",
    "import torch\n",
    "import os\n",
    "from torchvision import transforms\n",
    "\n",
    "# Load pretrained model\n",
    "processor = TrOCRProcessor.from_pretrained(\"microsoft/trocr-base-handwritten\")\n",
    "model = VisionEncoderDecoderModel.from_pretrained(\"microsoft/trocr-base-handwritten\")"
   ]
  },
  {
   "cell_type": "code",
   "execution_count": 10,
   "id": "6ba3ba8f-68e7-41aa-826e-3e8a70c80882",
   "metadata": {},
   "outputs": [
    {
     "name": "stdout",
     "output_type": "stream",
     "text": [
      "torch.Size([6, 3, 384, 384])\n"
     ]
    }
   ],
   "source": [
    "# Define transformation for resizing and normalizing images\n",
    "transform = transforms.Compose([\n",
    "    transforms.Resize((384, 384)),  # Resize images to fit model input\n",
    "    transforms.ToTensor(),  \n",
    "])\n",
    "\n",
    "# Path to your dataset folder\n",
    "image_folder = \"file1_ipmages\"\n",
    "\n",
    "# Collect all image paths\n",
    "image_paths = [os.path.join(image_folder, f) for f in os.listdir(image_folder) if f.endswith((\".jpg\", \".png\"))]\n",
    "\n",
    "# Load and process images\n",
    "images = [transform(Image.open(img).convert(\"RGB\")) for img in image_paths]\n",
    "\n",
    "# Convert list of tensors into a batch\n",
    "pixel_values = torch.stack(images)\n",
    "\n",
    "# Ensure correct batch shape\n",
    "print(pixel_values.shape)  # Should be (batch_size, 3, 384, 384)\n"
   ]
  },
  {
   "cell_type": "code",
   "execution_count": 18,
   "id": "1b9a7ab3-a49b-4b93-831f-544d9e177eb0",
   "metadata": {},
   "outputs": [
    {
     "name": "stdout",
     "output_type": "stream",
     "text": [
      "torch.Size([3, 2])\n"
     ]
    }
   ],
   "source": [
    "# Path to the text folder\n",
    "text_folder = \"text\"\n",
    "\n",
    "# Load ground truth text for the first 3 images\n",
    "labels = []\n",
    "for img_path in image_paths[:3]:  # Only process the first 3 images\n",
    "    img_name = os.path.basename(img_path).split(\".\")[0]  # Extract image name\n",
    "    text_file = os.path.join(text_folder, f\"{img_name}.txt\")  # Corresponding text file\n",
    "\n",
    "    if os.path.exists(text_file):\n",
    "        with open(text_file, \"r\", encoding=\"utf-8\") as f:\n",
    "            labels.append(\" \".join([line.strip() for line in f.readlines()]))  # Merge lines\n",
    "    else:\n",
    "        labels.append(\"\")  # If missing, keep empty\n",
    "\n",
    "# Tokenize text labels\n",
    "label_inputs = processor.tokenizer(labels, padding=True, return_tensors=\"pt\").input_ids\n",
    "print(label_inputs.shape)"
   ]
  },
  {
   "cell_type": "code",
   "execution_count": 22,
   "id": "f694643d-7cf4-404a-af05-07a1bdbcc722",
   "metadata": {},
   "outputs": [
    {
     "name": "stdout",
     "output_type": "stream",
     "text": [
      "Image 1 Prediction: 25 July\n",
      "Image 2 Prediction: 0 0\n",
      "Image 3 Prediction: 0 0\n"
     ]
    }
   ],
   "source": [
    "# Move model and data to device (use GPU if available)\n",
    "device = \"cuda\" if torch.cuda.is_available() else \"cpu\"\n",
    "model.to(device)\n",
    "pixel_values = pixel_values[:3].to(device)  # Only first 3 images\n",
    "\n",
    "# Generate predictions\n",
    "with torch.no_grad():\n",
    "    generated_ids = model.generate(pixel_values)\n",
    "\n",
    "# Decode the predicted token IDs into text\n",
    "predicted_texts = processor.batch_decode(generated_ids, skip_special_tokens=True)\n",
    "\n",
    "# Print results\n",
    "for i, pred in enumerate(predicted_texts):\n",
    "    print(f\"Image {i+1} Prediction: {pred}\")\n"
   ]
  },
  {
   "cell_type": "code",
   "execution_count": null,
   "id": "a857c764-5945-4952-acbe-b31383f07249",
   "metadata": {},
   "outputs": [],
   "source": []
  }
 ],
 "metadata": {
  "kernelspec": {
   "display_name": "Python [conda env:base] *",
   "language": "python",
   "name": "conda-base-py"
  },
  "language_info": {
   "codemirror_mode": {
    "name": "ipython",
    "version": 3
   },
   "file_extension": ".py",
   "mimetype": "text/x-python",
   "name": "python",
   "nbconvert_exporter": "python",
   "pygments_lexer": "ipython3",
   "version": "3.11.8"
  }
 },
 "nbformat": 4,
 "nbformat_minor": 5
}
