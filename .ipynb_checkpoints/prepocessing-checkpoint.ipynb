{
 "cells": [
  {
   "cell_type": "code",
   "execution_count": 4,
   "id": "9b7f1b7f-58ac-4814-89b6-b7fec130d3d4",
   "metadata": {},
   "outputs": [
    {
     "name": "stdout",
     "output_type": "stream",
     "text": [
      "Requirement already satisfied: pdf2image in /opt/anaconda3/lib/python3.11/site-packages (1.17.0)\n",
      "Requirement already satisfied: pillow in /opt/anaconda3/lib/python3.11/site-packages (from pdf2image) (10.4.0)\n"
     ]
    }
   ],
   "source": [
    "!pip install pdf2image"
   ]
  },
  {
   "cell_type": "code",
   "execution_count": 6,
   "id": "ced16671-495f-4899-abaf-14bbfc2f4c53",
   "metadata": {},
   "outputs": [
    {
     "name": "stdout",
     "output_type": "stream",
     "text": [
      "Processed: page_2.jpg\n",
      "Processed: page_3.jpg\n",
      "Processed: page_1.jpg\n",
      "Processed: page_4.jpg\n",
      "Processed: page_5.jpg\n",
      "Processed: page_6.jpg\n",
      "Processing completed for all images.\n"
     ]
    }
   ],
   "source": [
    "import cv2\n",
    "import os\n",
    "\n",
    "# Folder containing images\n",
    "input_folder = \"file1_images\"\n",
    "output_folder = \"file1_ipmages\"\n",
    "\n",
    "# Create output folder if it doesn't exist\n",
    "os.makedirs(output_folder, exist_ok=True)\n",
    "\n",
    "def preprocess_image(image_path, output_path):\n",
    "    img = cv2.imread(image_path, cv2.IMREAD_GRAYSCALE)  # Convert to grayscale\n",
    "    \n",
    "    if img is None:  # Check if image is loaded successfully\n",
    "        print(f\"Error: Could not load image {image_path}\")\n",
    "        return\n",
    "    \n",
    "    _, img_bin = cv2.threshold(img, 128, 255, cv2.THRESH_BINARY | cv2.THRESH_OTSU)  # Binarization\n",
    "    cv2.imwrite(output_path, img_bin)\n",
    "\n",
    "# Process all images in the folder\n",
    "for filename in os.listdir(input_folder):\n",
    "    input_path = os.path.join(input_folder, filename)  # Full input path\n",
    "    output_path = os.path.join(output_folder, filename)  # Full output path\n",
    "\n",
    "    # Check if it's an image file before processing\n",
    "    if filename.lower().endswith((\".jpg\", \".png\", \".jpeg\")):\n",
    "        preprocess_image(input_path, output_path)\n",
    "        print(f\"Processed: {filename}\")\n",
    "    else:\n",
    "        print(f\"Skipping non-image file: {filename}\")\n",
    "\n",
    "print(\"Processing completed for all images.\")\n"
   ]
  },
  {
   "cell_type": "code",
   "execution_count": 8,
   "id": "d2b8d45e-b5b3-4edd-8cb4-a410274f1e38",
   "metadata": {},
   "outputs": [
    {
     "name": "stdout",
     "output_type": "stream",
     "text": [
      "L>va\n",
      "\n",
      "EN NN\n",
      "INFINITAM \"AMABLE\n",
      "'\" NINO TESUS.\n",
      "\n",
      "AS el] Vos , Dulciísimo Niño\n",
      "SAND] Jesus , queno Íolo os Ex1/ai.53:\n",
      "dignafteis de llamaros :8.\n",
      "Dottor de los Niños, ** 24*- 2\n",
      "fino tambien de afsif- *\n",
      "\n",
      "tir como Niño entre los DoGores,\n",
      "\n",
      "le confagra humilde efta pequeña\n",
      "lnítruccion de los Niños. Es aísi,\n",
      "\n",
      "que ella tambien fe dirige a lajus\n",
      "\n",
      "ventud ; pero a efta, como recuer-\n",
      "\n",
      "do de lo que aprendió, alos Ni.\n",
      "\n",
      "ños , como precifa explicacion de\n",
      "\n",
      "lo que deben eftudiar. Por efte fo-\n",
      "logpitulo.es muy vueítra ; «y por\n",
      "\n",
      "ler para Niños , que confiais á la\n",
      "educacion de vueftra Compañia,\n",
      "\n",
      "lo es mucho mas. En Vos, ( Divi-\n",
      "\n",
      "no Exemplar de todas las virtua»\n",
      "\n",
      "des ) tienen abreviado el mas [e-\n",
      "\n",
      "g 2 guro\n",
      "\n",
      "E TN\n",
      "\n"
     ]
    }
   ],
   "source": [
    "import pytesseract\n",
    "from PIL import Image\n",
    "\n",
    "# Load image from the correct folder\n",
    "image_path = \"file1_ipmages/page_1.jpg\"  # Ensure the correct path\n",
    "image = Image.open(image_path)\n",
    "\n",
    "# Perform OCR (Spanish language)\n",
    "text = pytesseract.image_to_string(image, lang=\"spa\")\n",
    "\n",
    "# Print the extracted text\n",
    "print(text)\n"
   ]
  },
  {
   "cell_type": "code",
   "execution_count": 2,
   "id": "94adc0b6-a1f2-459b-8225-c01e198aae34",
   "metadata": {},
   "outputs": [],
   "source": [
    "from PIL import Image\n",
    "image = Image.open(\"file1_ipmages/page_1.jpg\")\n",
    "image.show()  # This will open the image\n"
   ]
  },
  {
   "cell_type": "code",
   "execution_count": null,
   "id": "7d0a1704-244e-4cf9-bd52-6cc750775a25",
   "metadata": {},
   "outputs": [],
   "source": [
    "import cv2\n",
    "import numpy as np\n",
    "import os\n",
    "\n",
    "def detect_text_regions(binary_image_path, output_image_path):\n",
    "    # Load the binarized image\n",
    "    binary_image = cv2.imread(binary_image_path, cv2.IMREAD_GRAYSCALE)\n",
    "    \n",
    "    if binary_image is None:  # Check if image is loaded successfully\n",
    "        print(f\"Error: Could not load binary image {binary_image_path}\")\n",
    "        return\n",
    "    \n",
    "    # Find contours in the binary image\n",
    "    contours, _ = cv2.findContours(binary_image, cv2.RETR_EXTERNAL, cv2.CHAIN_APPROX_SIMPLE)\n",
    "    \n",
    "    # Create a copy of the binary image to draw bounding boxes\n",
    "    output_image = cv2.cvtColor(binary_image, cv2.COLOR_GRAY2BGR)\n",
    "    \n",
    "    # Loop through contours and draw bounding boxes\n",
    "    for contour in contours:\n",
    "        # Get the bounding box for each contour\n",
    "        x, y, w, h = cv2.boundingRect(contour)\n",
    "        \n",
    "        # Filter out small regions (noise) based on area\n",
    "        if w * h > 100:  # Adjust the area threshold as needed\n",
    "            cv2.rectangle(output_image, (x, y), (x + w, y + h), (0, 255, 0), 2)  # Draw green bounding box\n",
    "    \n",
    "    # Save the output image with bounding boxes\n",
    "    cv2.imwrite(output_image_path, output_image)\n",
    "    print(f\"Text regions detected and saved to {output_image_path}\")\n",
    "\n",
    "# Folder paths\n",
    "input_folder = \"path_to_input_folder\"  # Folder containing original images\n",
    "output_folder = \"path_to_output_folder\"  # Folder to save processed images\n",
    "\n",
    "# Create output folder if it doesn't exist\n",
    "if not os.path.exists(output_folder):\n",
    "    os.makedirs(output_folder)\n",
    "\n",
    "# Process all images in the folder\n",
    "for filename in os.listdir(input_folder):\n",
    "    input_path = os.path.join(input_folder, filename)  # Full input path\n",
    "    output_path = os.path.join(output_folder, filename)  # Full output path\n",
    "\n",
    "    # Check if it's an image file before processing\n",
    "    if filename.lower().endswith((\".jpg\", \".png\", \".jpeg\")):\n",
    "        # Step 1: Preprocess the image (binarization)\n",
    "        preprocess_image(input_path, output_path)\n",
    "        \n",
    "        # Step 2: Detect text regions and draw bounding boxes\n",
    "        detect_text_regions(output_path, output_path)\n",
    "        \n",
    "        print(f\"Processed: {filename}\")\n",
    "    else:\n",
    "        print(f\"Skipping non-image file: {filename}\")\n",
    "\n",
    "print(\"Processing completed for all images.\")"
   ]
  }
 ],
 "metadata": {
  "kernelspec": {
   "display_name": "Python [conda env:base] *",
   "language": "python",
   "name": "conda-base-py"
  },
  "language_info": {
   "codemirror_mode": {
    "name": "ipython",
    "version": 3
   },
   "file_extension": ".py",
   "mimetype": "text/x-python",
   "name": "python",
   "nbconvert_exporter": "python",
   "pygments_lexer": "ipython3",
   "version": "3.11.8"
  }
 },
 "nbformat": 4,
 "nbformat_minor": 5
}
